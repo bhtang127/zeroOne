{
 "cells": [
  {
   "cell_type": "code",
   "execution_count": 2,
   "metadata": {},
   "outputs": [],
   "source": [
    "import numpy as np\n",
    "import matplotlib.pyplot as plt\n",
    "import tensorflow as tf\n",
    "from tensorflow.keras import layers"
   ]
  },
  {
   "cell_type": "code",
   "execution_count": 3,
   "metadata": {},
   "outputs": [
    {
     "data": {
      "text/plain": [
       "((1000000, 3), (1000000,))"
      ]
     },
     "execution_count": 3,
     "metadata": {},
     "output_type": "execute_result"
    }
   ],
   "source": [
    "# xi | ti ~ N(logit(alpha*ti), (beta*ti)^2)\n",
    "# ti ~ N(0,Sigma)\n",
    "\n",
    "N, d = int(1e6), 3\n",
    "alpha = np.linspace(1,d,d)\n",
    "beta = np.random.randint(10, size=d) - 5\n",
    "\n",
    "def data(N, d, alpha, beta):\n",
    "    X = np.random.normal(size = (int(N/1000), d))\n",
    "    X = np.concatenate([X for i in range(1000)], axis=0)\n",
    "    muiY = np.exp(X.dot(alpha)) / (1 + np.exp(X.dot(alpha)))\n",
    "    sigY = X.dot(beta)\n",
    "    preY = np.random.normal(size = (N,))\n",
    "    Y = preY * sigY + muiY\n",
    "    return X, Y\n",
    "\n",
    "X, Y = data(N,d,alpha,beta)\n",
    "Xval, Yval = data(N,d,alpha,beta)\n",
    "\n",
    "Xval.shape, Yval.shape"
   ]
  },
  {
   "cell_type": "code",
   "execution_count": 6,
   "metadata": {
    "scrolled": false
   },
   "outputs": [
    {
     "name": "stdout",
     "output_type": "stream",
     "text": [
      "Model: \"model\"\n",
      "_________________________________________________________________\n",
      "Layer (type)                 Output Shape              Param #   \n",
      "=================================================================\n",
      "input_1 (InputLayer)         [(None, 3)]               0         \n",
      "_________________________________________________________________\n",
      "dense (Dense)                (None, 1)                 4         \n",
      "=================================================================\n",
      "Total params: 4\n",
      "Trainable params: 4\n",
      "Non-trainable params: 0\n",
      "_________________________________________________________________\n",
      "Train on 1000000 samples, validate on 1000000 samples\n",
      "Epoch 1/20\n",
      "1000000/1000000 [==============================] - 1s 1us/sample - loss: 12.3433 - val_loss: 13.1765\n",
      "Epoch 2/20\n",
      "1000000/1000000 [==============================] - 1s 1us/sample - loss: 12.3281 - val_loss: 13.1707\n",
      "Epoch 3/20\n",
      "1000000/1000000 [==============================] - 1s 1us/sample - loss: 12.3247 - val_loss: 13.1689\n",
      "Epoch 4/20\n",
      "1000000/1000000 [==============================] - 1s 1us/sample - loss: 12.3234 - val_loss: 13.1683\n",
      "Epoch 5/20\n",
      "1000000/1000000 [==============================] - 1s 1us/sample - loss: 12.3229 - val_loss: 13.1679\n",
      "Epoch 6/20\n",
      "1000000/1000000 [==============================] - 1s 1us/sample - loss: 12.3226 - val_loss: 13.1677\n",
      "Epoch 7/20\n",
      "1000000/1000000 [==============================] - 1s 1us/sample - loss: 12.3225 - val_loss: 13.1677\n",
      "Epoch 8/20\n",
      "1000000/1000000 [==============================] - 1s 1us/sample - loss: 12.3224 - val_loss: 13.1677\n",
      "Epoch 9/20\n",
      "1000000/1000000 [==============================] - 1s 1us/sample - loss: 12.3224 - val_loss: 13.1677\n",
      "Epoch 10/20\n",
      "1000000/1000000 [==============================] - 1s 1us/sample - loss: 12.3224 - val_loss: 13.1676\n",
      "Epoch 11/20\n",
      "1000000/1000000 [==============================] - 1s 1us/sample - loss: 12.3224 - val_loss: 13.1676\n",
      "Epoch 12/20\n",
      "1000000/1000000 [==============================] - 1s 1us/sample - loss: 12.3224 - val_loss: 13.1676\n",
      "Epoch 13/20\n",
      "1000000/1000000 [==============================] - 1s 1us/sample - loss: 12.3224 - val_loss: 13.1677\n",
      "Epoch 14/20\n",
      "1000000/1000000 [==============================] - 1s 1us/sample - loss: 12.3224 - val_loss: 13.1677\n",
      "Epoch 15/20\n",
      "1000000/1000000 [==============================] - 1s 1us/sample - loss: 12.3224 - val_loss: 13.1677\n",
      "Epoch 16/20\n",
      "1000000/1000000 [==============================] - 1s 1us/sample - loss: 12.3224 - val_loss: 13.1677\n",
      "Epoch 17/20\n",
      "1000000/1000000 [==============================] - 1s 1us/sample - loss: 12.3224 - val_loss: 13.1677\n",
      "Epoch 18/20\n",
      "1000000/1000000 [==============================] - 1s 1us/sample - loss: 12.3224 - val_loss: 13.1676\n",
      "Epoch 19/20\n",
      "1000000/1000000 [==============================] - 1s 1us/sample - loss: 12.3224 - val_loss: 13.1677\n",
      "Epoch 20/20\n",
      "1000000/1000000 [==============================] - 1s 1us/sample - loss: 12.3224 - val_loss: 13.1676\n"
     ]
    },
    {
     "data": {
      "text/plain": [
       "<tensorflow.python.keras.callbacks.History at 0x7f696c0dfd30>"
      ]
     },
     "execution_count": 6,
     "metadata": {},
     "output_type": "execute_result"
    }
   ],
   "source": [
    "tf.keras.backend.clear_session()\n",
    "\n",
    "def densityEncoder(dim):\n",
    "    inputs = tf.keras.Input(shape=(dim,))\n",
    "    \n",
    "    mui = layers.Dense(1, activation='sigmoid')(inputs)\n",
    "    \n",
    "#     sig = layers.Dense(1)(inputs)\n",
    "    \n",
    "#     outputs = tf.concat([mui,sig],axis=1)\n",
    "    outputs = mui\n",
    "    return tf.keras.Model(inputs=inputs, outputs=outputs)\n",
    "\n",
    "def densityLoss(Y,theta):\n",
    "    mui, sig2 = theta[:,0], theta[:,-1]**2\n",
    "    negloglike = 0.5 * (tf.math.log(sig2) + (Y-mui)**2 / sig2)\n",
    "    return tf.reduce_mean(negloglike)\n",
    "    \n",
    "model = densityEncoder(d)\n",
    "model.compile(optimizer=tf.keras.optimizers.Adam(lr=1e-2),\n",
    "              loss='mse')\n",
    "model.summary()\n",
    "\n",
    "model.fit(X, Y, batch_size=int(1e4), epochs=20,\n",
    "          validation_data = (Xval, Yval))"
   ]
  },
  {
   "cell_type": "code",
   "execution_count": 7,
   "metadata": {},
   "outputs": [],
   "source": [
    "Xval_para = model.predict(Xval)\n",
    "\n",
    "muiYval = np.exp(Xval.dot(alpha)) / (1 + np.exp(Xval.dot(alpha)))\n",
    "sigYval = Xval.dot(beta)"
   ]
  },
  {
   "cell_type": "code",
   "execution_count": 8,
   "metadata": {},
   "outputs": [
    {
     "data": {
      "text/plain": [
       "(array([[9.6435416e-01],\n",
       "        [9.3344343e-01],\n",
       "        [9.9034351e-01],\n",
       "        [6.6751242e-04],\n",
       "        [1.7700875e-01],\n",
       "        [1.1261731e-02],\n",
       "        [2.2615945e-01],\n",
       "        [9.7642219e-01],\n",
       "        [9.8162240e-01]], dtype=float32),\n",
       " array([9.63022087e-01, 9.30218152e-01, 9.89979999e-01, 7.21630357e-04,\n",
       "        1.80301730e-01, 1.11343758e-02, 2.36835860e-01, 9.75502034e-01,\n",
       "        9.81351350e-01]),\n",
       " array([-3.37918818, -2.85408804, -4.45865288,  7.07501953,  1.71312921,\n",
       "         1.82563391,  2.41471635, -4.73571953, -3.49374167]))"
      ]
     },
     "execution_count": 8,
     "metadata": {},
     "output_type": "execute_result"
    }
   ],
   "source": [
    "Xval_para[1:10,:], muiYval[1:10], sigYval[1:10]"
   ]
  }
 ],
 "metadata": {
  "kernelspec": {
   "display_name": "Python 3",
   "language": "python",
   "name": "python3"
  },
  "language_info": {
   "codemirror_mode": {
    "name": "ipython",
    "version": 3
   },
   "file_extension": ".py",
   "mimetype": "text/x-python",
   "name": "python",
   "nbconvert_exporter": "python",
   "pygments_lexer": "ipython3",
   "version": "3.6.7"
  }
 },
 "nbformat": 4,
 "nbformat_minor": 2
}
